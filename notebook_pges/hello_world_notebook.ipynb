{
 "cells": [
  {
   "cell_type": "markdown",
   "metadata": {},
   "source": [
    "### Hello, World\n",
    "This *very* simple notebook will be used to demonstrate the steps by which to execute it at scale within the SDS using parameter values specified at \n",
    "job runtime. This is performed through the steps provided by the *hello_world_pge_create* and *hello_world_submit_job* notebooks."
   ]
  },
  {
   "cell_type": "markdown",
   "metadata": {},
   "source": [
    "#### 1. The parameters cell\n",
    "This cell contains the input parameters, distinguished by the *parameters* annotation, which indicates to Papermill \n",
    "that contained variables accept run-time values. Parameter types are implied to the system using python typing. The\n",
    "values provided here will be used as the default."
   ]
  },
  {
   "cell_type": "code",
   "execution_count": null,
   "metadata": {
    "tags": [
     "parameters"
    ]
   },
   "outputs": [],
   "source": [
    "# parameters\n",
    "name: str = \"Fred Flintstone\"\n",
    "start_orbit_number: str = \"5020A\"\n",
    "end_orbit_number: str = \"5028D\"\n",
    "periapsis: float = 3668.75\n",
    "apoapsis: float = 18699.23\n",
    "\n",
    "_time_limit = 600\n",
    "_soft_time_limit = 600\n",
    "_disk_usage = \"1GB\"\n",
    "_submission_type = \"iteration\"\n",
    "_label = \"Hello world notebook PGE\""
   ]
  },
  {
   "cell_type": "markdown",
   "metadata": {},
   "source": [
    "#### 2. Perform some simple operations\n",
    "The remaining cells perform simple manipulations of the input parameter values."
   ]
  },
  {
   "cell_type": "code",
   "execution_count": null,
   "metadata": {},
   "outputs": [],
   "source": [
    "print(\"Hello, {}\".format(name))\n",
    "print(\"Processing for orbits from {} to {}\".format(start_orbit_number, end_orbit_number))"
   ]
  },
  {
   "cell_type": "code",
   "execution_count": null,
   "metadata": {},
   "outputs": [],
   "source": [
    "print(\"apoapsis = {} of type {}\".format(apoapsis,type(apoapsis)))\n",
    "print(\"periapsis = {} of type {}\".format(periapsis,type(periapsis)))\n",
    "\n",
    "diff = apoapsis - periapsis\n",
    "print(\"diff is {}\".format(diff))"
   ]
  },
  {
   "cell_type": "code",
   "execution_count": null,
   "metadata": {},
   "outputs": [],
   "source": [
    "print(\"Goodbye, {}\".format(name))"
   ]
  },
  {
   "cell_type": "code",
   "execution_count": null,
   "metadata": {},
   "outputs": [],
   "source": []
  }
 ],
 "metadata": {
  "celltoolbar": "Tags",
  "kernelspec": {
   "display_name": "Python 3 (ipykernel)",
   "language": "python",
   "name": "python3"
  },
  "language_info": {
   "codemirror_mode": {
    "name": "ipython",
    "version": 3
   },
   "file_extension": ".py",
   "mimetype": "text/x-python",
   "name": "python",
   "nbconvert_exporter": "python",
   "pygments_lexer": "ipython3",
   "version": "3.9.6"
  }
 },
 "nbformat": 4,
 "nbformat_minor": 4
}
